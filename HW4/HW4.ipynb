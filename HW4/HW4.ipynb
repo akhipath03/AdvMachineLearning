{
  "nbformat": 4,
  "nbformat_minor": 0,
  "metadata": {
    "colab": {
      "provenance": [],
      "gpuType": "T4"
    },
    "kernelspec": {
      "name": "python3",
      "display_name": "Python 3"
    },
    "language_info": {
      "name": "python"
    },
    "accelerator": "GPU"
  },
  "cells": [
    {
      "cell_type": "code",
      "source": [
        "!pip install -q pyswarms"
      ],
      "metadata": {
        "id": "pp7zeMS_fifh",
        "colab": {
          "base_uri": "https://localhost:8080/"
        },
        "outputId": "7e6e522d-d55a-4c7a-9502-dcd95e2ab8c3"
      },
      "execution_count": null,
      "outputs": [
        {
          "output_type": "stream",
          "name": "stdout",
          "text": [
            "\u001b[?25l     \u001b[90m━━━━━━━━━━━━━━━━━━━━━━━━━━━━━━━━━━━━━━━━\u001b[0m \u001b[32m0.0/104.1 kB\u001b[0m \u001b[31m?\u001b[0m eta \u001b[36m-:--:--\u001b[0m\r\u001b[2K     \u001b[91m━━━━━━━━━━━━━━━━━━━━━━━━━━━━━━━━━━━━━━━\u001b[0m\u001b[90m╺\u001b[0m \u001b[32m102.4/104.1 kB\u001b[0m \u001b[31m4.1 MB/s\u001b[0m eta \u001b[36m0:00:01\u001b[0m\r\u001b[2K     \u001b[90m━━━━━━━━━━━━━━━━━━━━━━━━━━━━━━━━━━━━━━━━\u001b[0m \u001b[32m104.1/104.1 kB\u001b[0m \u001b[31m2.7 MB/s\u001b[0m eta \u001b[36m0:00:00\u001b[0m\n",
            "\u001b[?25h"
          ]
        }
      ]
    },
    {
      "cell_type": "code",
      "source": [],
      "metadata": {
        "id": "byQL-IIoMETk"
      },
      "execution_count": null,
      "outputs": []
    },
    {
      "cell_type": "code",
      "source": [
        "import numpy as np\n",
        "import torch\n",
        "import torch.nn as nn\n",
        "from torchvision import datasets\n",
        "from torchvision import transforms\n",
        "from torch.utils.data.sampler import SubsetRandomSampler\n",
        "import pyswarms as ps\n",
        "\n",
        "# Set device\n",
        "# Get gpu, mps or cpu device for training.\n",
        "device = (\n",
        "    \"cuda\"\n",
        "    if torch.cuda.is_available()\n",
        "    else \"mps\"\n",
        "    if torch.backends.mps.is_available()\n",
        "    else \"cpu\"\n",
        ")\n",
        "print(f\"Using {device} device\")"
      ],
      "metadata": {
        "id": "GEe07MIQcIJt",
        "colab": {
          "base_uri": "https://localhost:8080/"
        },
        "outputId": "d6e24378-b35f-4cde-95ff-be08813c4e74"
      },
      "execution_count": null,
      "outputs": [
        {
          "output_type": "stream",
          "name": "stdout",
          "text": [
            "Using cuda device\n"
          ]
        }
      ]
    },
    {
      "cell_type": "code",
      "source": [
        "# Define the model\n",
        "class MyModel(nn.Module):\n",
        "    def __init__(self, num_classes=10, num_layers=5, neurons_per_layer=256):\n",
        "        super(MyModel, self).__init__()\n",
        "        layers = []\n",
        "        layers.append(nn.Conv2d(3, 96, kernel_size=11, stride=4, padding=0))\n",
        "        layers.append(nn.BatchNorm2d(96))\n",
        "        layers.append(nn.ReLU())\n",
        "        layers.append(nn.MaxPool2d(kernel_size=3, stride=2, padding=1))\n",
        "\n",
        "        for _ in range(num_layers):\n",
        "            layers.append(nn.Conv2d(96, 96, kernel_size=3, stride=1, padding=1))\n",
        "            layers.append(nn.BatchNorm2d(96))\n",
        "            layers.append(nn.ReLU())\n",
        "            layers.append(nn.MaxPool2d(kernel_size=3, stride=2, padding=1))\n",
        "\n",
        "        # Adjust input size for the linear layer based on the output size of preceding layers\n",
        "        dummy_input = torch.randn(1, 3, 128, 128)\n",
        "        self.layers = nn.Sequential(*layers)\n",
        "        self._to_linear = None\n",
        "        self.convs(dummy_input)\n",
        "\n",
        "        self.fc = nn.Sequential(\n",
        "            nn.Linear(self._to_linear, neurons_per_layer),\n",
        "            nn.ReLU(),\n",
        "            nn.Linear(neurons_per_layer, num_classes)\n",
        "        )\n",
        "\n",
        "    def convs(self, x):\n",
        "        x = self.layers(x)\n",
        "        if self._to_linear is None:\n",
        "            self._to_linear = x[0].shape[0] * x[0].shape[1] * x[0].shape[2]\n",
        "        return x\n",
        "\n",
        "    def forward(self, x):\n",
        "        x = self.layers(x)\n",
        "        x = x.view(-1, self._to_linear)\n",
        "        x = self.fc(x)\n",
        "        return x\n",
        "\n",
        "# Function to evaluate the model\n",
        "def evaluate_model(params):\n",
        "    num_layers = int(params[0][0])  # Corrected indexing\n",
        "    neurons_per_layer = int(params[0][1])  # Corrected indexing\n",
        "\n",
        "    # Define hyperparameters\n",
        "    num_classes = 10\n",
        "    learning_rate = 0.001\n",
        "    num_epochs = 20\n",
        "    batch_size = 72\n",
        "\n",
        "    # Define model\n",
        "    model = MyModel(num_classes, num_layers, neurons_per_layer).to(device)\n",
        "\n",
        "    # Define loss and optimizer\n",
        "    criterion = nn.CrossEntropyLoss()\n",
        "    optimizer = torch.optim.Adam(model.parameters(), lr=learning_rate)\n",
        "\n",
        "    # Load CIFAR10 data\n",
        "    transform = transforms.Compose([\n",
        "        transforms.Resize((128,128)),\n",
        "        transforms.ToTensor(),\n",
        "        transforms.Normalize((0.5, 0.5, 0.5), (0.5, 0.5, 0.5))\n",
        "    ])\n",
        "\n",
        "    train_data = datasets.CIFAR10(root='./data', train=True, download=True, transform=transform)\n",
        "    test_data = datasets.CIFAR10(root='./data', train=False, download=True, transform=transform)\n",
        "\n",
        "    # Define data loaders\n",
        "    train_loader = torch.utils.data.DataLoader(train_data, batch_size=batch_size, shuffle=True)\n",
        "    test_loader = torch.utils.data.DataLoader(test_data, batch_size=batch_size, shuffle=False)\n",
        "\n",
        "    # Training the model\n",
        "    for epoch in range(num_epochs):\n",
        "        model.train()\n",
        "        running_loss = 0.0\n",
        "        for i, (inputs, labels) in enumerate(train_loader):\n",
        "            inputs, labels = inputs.to(device), labels.to(device)\n",
        "            optimizer.zero_grad()\n",
        "            outputs = model(inputs)\n",
        "            loss = criterion(outputs, labels)\n",
        "            loss.backward()\n",
        "            optimizer.step()\n",
        "            running_loss += loss.item()\n",
        "\n",
        "        # Validation\n",
        "        model.eval()\n",
        "        correct = 0\n",
        "        total = 0\n",
        "        with torch.no_grad():\n",
        "            for inputs, labels in test_loader:\n",
        "                inputs, labels = inputs.to(device), labels.to(device)\n",
        "                outputs = model(inputs)\n",
        "                _, predicted = torch.max(outputs.data, 1)\n",
        "                total += labels.size(0)\n",
        "                correct += (predicted == labels).sum().item()\n",
        "\n",
        "        # Print progress\n",
        "        print('Epoch [%d/%d], Loss: %.4f, Accuracy: %.2f %%' % (epoch+1, num_epochs, running_loss / len(train_loader), 100 * correct / total))\n",
        "\n",
        "    # Return validation accuracy\n",
        "    return correct / total\n",
        "\n",
        "# Define the search space\n",
        "search_space = {\n",
        "    'num_layers': (1, 5),  # Range for number of layers\n",
        "    'neurons_per_layer': (16, 256),  # Range for neurons per layer\n",
        "}\n",
        "\n",
        "# Define the bounds for the parameters\n",
        "lb = [search_space['num_layers'][0], search_space['neurons_per_layer'][0]]\n",
        "ub = [search_space['num_layers'][1], search_space['neurons_per_layer'][1]]\n",
        "\n",
        "# Initialize the swarm\n",
        "num_particles = 10\n",
        "dim = 2  # Dimensionality of the search space\n",
        "options = {'c1': 0.5, 'c2': 0.3, 'w': 0.9}  # PSO hyperparameters\n",
        "optimizer = ps.single.GlobalBestPSO(n_particles=num_particles, dimensions=dim, options=options, bounds=(lb, ub))\n",
        "\n",
        "# Perform optimization\n",
        "best_params, _ = optimizer.optimize(evaluate_model, iters=10)\n",
        "print(\"Best hyperparameters:\", best_params)"
      ],
      "metadata": {
        "colab": {
          "base_uri": "https://localhost:8080/"
        },
        "id": "_e1yRK2kbdOg",
        "outputId": "6bdc5e6b-f433-4e2b-a8a0-2652d53811c2"
      },
      "execution_count": null,
      "outputs": [
        {
          "output_type": "stream",
          "name": "stderr",
          "text": [
            "2024-04-03 18:54:54,035 - pyswarms.single.global_best - INFO - Optimize for 10 iters with {'c1': 0.5, 'c2': 0.3, 'w': 0.9}\n",
            "pyswarms.single.global_best:   0%|          |0/10"
          ]
        },
        {
          "output_type": "stream",
          "name": "stdout",
          "text": [
            "Downloading https://www.cs.toronto.edu/~kriz/cifar-10-python.tar.gz to ./data/cifar-10-python.tar.gz\n"
          ]
        },
        {
          "output_type": "stream",
          "name": "stderr",
          "text": [
            "\n",
            "  0%|          | 0/170498071 [00:00<?, ?it/s]\u001b[A\n",
            "  0%|          | 65536/170498071 [00:00<08:08, 348547.19it/s]\u001b[A\n",
            "  0%|          | 196608/170498071 [00:00<03:43, 763469.39it/s]\u001b[A\n",
            "  0%|          | 458752/170498071 [00:00<02:27, 1155736.04it/s]\u001b[A\n",
            "  1%|          | 1048576/170498071 [00:00<01:05, 2568455.00it/s]\u001b[A\n",
            "  1%|▏         | 2293760/170498071 [00:00<00:30, 5516727.26it/s]\u001b[A\n",
            "  3%|▎         | 4521984/170498071 [00:00<00:15, 10517721.14it/s]\u001b[A\n",
            "  4%|▍         | 7536640/170498071 [00:00<00:09, 16359675.99it/s]\u001b[A\n",
            "  6%|▌         | 10452992/170498071 [00:00<00:08, 19513657.74it/s]\u001b[A\n",
            "  8%|▊         | 13598720/170498071 [00:01<00:06, 22842537.43it/s]\u001b[A\n",
            " 10%|▉         | 16842752/170498071 [00:01<00:06, 25606296.76it/s]\u001b[A\n",
            " 12%|█▏        | 20086784/170498071 [00:01<00:05, 27510297.63it/s]\u001b[A\n",
            " 14%|█▎        | 23232512/170498071 [00:01<00:05, 28630207.65it/s]\u001b[A\n",
            " 15%|█▌        | 26279936/170498071 [00:01<00:04, 29166772.56it/s]\u001b[A\n",
            " 17%|█▋        | 29458432/170498071 [00:01<00:04, 29916977.38it/s]\u001b[A\n",
            " 19%|█▉        | 32473088/170498071 [00:01<00:04, 29426279.62it/s]\u001b[A\n",
            " 21%|██        | 35717120/170498071 [00:01<00:04, 30264667.56it/s]\u001b[A\n",
            " 23%|██▎       | 38830080/170498071 [00:01<00:04, 30278102.95it/s]\u001b[A\n",
            " 25%|██▍       | 41877504/170498071 [00:01<00:04, 30256030.62it/s]\u001b[A\n",
            " 26%|██▋       | 44924928/170498071 [00:02<00:04, 29482866.09it/s]\u001b[A\n",
            " 28%|██▊       | 48037888/170498071 [00:02<00:04, 29912203.37it/s]\u001b[A\n",
            " 30%|███       | 51281920/170498071 [00:02<00:03, 30635883.05it/s]\u001b[A\n",
            " 32%|███▏      | 54525952/170498071 [00:02<00:03, 31145554.71it/s]\u001b[A\n",
            " 34%|███▍      | 57671680/170498071 [00:02<00:03, 31218445.58it/s]\u001b[A\n",
            " 36%|███▌      | 60817408/170498071 [00:02<00:03, 31046374.65it/s]\u001b[A\n",
            " 38%|███▊      | 63963136/170498071 [00:02<00:03, 30922035.29it/s]\u001b[A\n",
            " 39%|███▉      | 67305472/170498071 [00:02<00:03, 31641587.68it/s]\u001b[A\n",
            " 41%|████▏     | 70483968/170498071 [00:02<00:03, 31455100.30it/s]\u001b[A\n",
            " 43%|████▎     | 73662464/170498071 [00:03<00:03, 31511727.09it/s]\u001b[A\n",
            " 45%|████▌     | 76840960/170498071 [00:03<00:03, 30715390.17it/s]\u001b[A\n",
            " 47%|████▋     | 79921152/170498071 [00:03<00:03, 30034770.54it/s]\u001b[A\n",
            " 49%|████▊     | 83066880/170498071 [00:03<00:02, 30441461.31it/s]\u001b[A\n",
            " 51%|█████     | 86409216/170498071 [00:03<00:02, 31307686.65it/s]\u001b[A\n",
            " 53%|█████▎    | 89554944/170498071 [00:03<00:02, 31168508.25it/s]\u001b[A\n",
            " 54%|█████▍    | 92700672/170498071 [00:03<00:02, 30857102.29it/s]\u001b[A\n",
            " 56%|█████▌    | 95846400/170498071 [00:03<00:02, 30857734.75it/s]\u001b[A\n",
            " 58%|█████▊    | 99090432/170498071 [00:03<00:02, 31303693.76it/s]\u001b[A\n",
            " 60%|█████▉    | 102236160/170498071 [00:03<00:02, 29821354.90it/s]\u001b[A\n",
            " 62%|██████▏   | 105480192/170498071 [00:04<00:02, 30196469.29it/s]\u001b[A\n",
            " 64%|██████▍   | 108855296/170498071 [00:04<00:01, 31210759.87it/s]\u001b[A\n",
            " 66%|██████▌   | 112001024/170498071 [00:04<00:01, 30498381.38it/s]\u001b[A\n",
            " 68%|██████▊   | 115113984/170498071 [00:04<00:01, 30216838.62it/s]\u001b[A\n",
            " 69%|██████▉   | 118226944/170498071 [00:04<00:01, 29722257.14it/s]\u001b[A\n",
            " 71%|███████   | 121208832/170498071 [00:04<00:01, 29149364.04it/s]\u001b[A\n",
            " 73%|███████▎  | 124354560/170498071 [00:04<00:01, 29149559.15it/s]\u001b[A\n",
            " 75%|███████▍  | 127500288/170498071 [00:04<00:01, 29447309.06it/s]\u001b[A\n",
            " 77%|███████▋  | 130613248/170498071 [00:04<00:01, 29121641.21it/s]\u001b[A\n",
            " 78%|███████▊  | 133529600/170498071 [00:05<00:01, 28046013.09it/s]\u001b[A\n",
            " 80%|████████  | 136675328/170498071 [00:05<00:01, 28797953.31it/s]\u001b[A\n",
            " 82%|████████▏ | 139886592/170498071 [00:05<00:01, 29032197.49it/s]\u001b[A\n",
            " 84%|████████▍ | 143261696/170498071 [00:05<00:00, 30319120.82it/s]\u001b[A\n",
            " 86%|████████▌ | 146407424/170498071 [00:05<00:00, 30569555.10it/s]\u001b[A\n",
            " 88%|████████▊ | 149520384/170498071 [00:05<00:00, 30341162.80it/s]\u001b[A\n",
            " 90%|████████▉ | 152633344/170498071 [00:05<00:00, 30181601.30it/s]\u001b[A\n",
            " 91%|█████████▏| 155746304/170498071 [00:05<00:00, 30075732.00it/s]\u001b[A\n",
            " 93%|█████████▎| 158990336/170498071 [00:05<00:00, 29985148.77it/s]\u001b[A\n",
            " 95%|█████████▌| 162136064/170498071 [00:05<00:00, 30407198.79it/s]\u001b[A\n",
            " 97%|█████████▋| 165609472/170498071 [00:06<00:00, 31412109.64it/s]\u001b[A\n",
            "100%|██████████| 170498071/170498071 [00:06<00:00, 27561996.17it/s]\n"
          ]
        },
        {
          "output_type": "stream",
          "name": "stdout",
          "text": [
            "Extracting ./data/cifar-10-python.tar.gz to ./data\n",
            "Files already downloaded and verified\n",
            "Epoch [1/20], Loss: 1.3248, Accuracy: 63.32 %\n",
            "Epoch [2/20], Loss: 0.9840, Accuracy: 65.09 %\n",
            "Epoch [3/20], Loss: 0.8646, Accuracy: 68.65 %\n",
            "Epoch [4/20], Loss: 0.7871, Accuracy: 71.74 %\n",
            "Epoch [5/20], Loss: 0.7262, Accuracy: 69.71 %\n",
            "Epoch [6/20], Loss: 0.6730, Accuracy: 73.61 %\n",
            "Epoch [7/20], Loss: 0.6303, Accuracy: 72.86 %\n",
            "Epoch [8/20], Loss: 0.5926, Accuracy: 72.58 %\n",
            "Epoch [9/20], Loss: 0.5538, Accuracy: 73.95 %\n",
            "Epoch [10/20], Loss: 0.5139, Accuracy: 75.30 %\n",
            "Epoch [11/20], Loss: 0.4853, Accuracy: 75.31 %\n",
            "Epoch [12/20], Loss: 0.4458, Accuracy: 76.20 %\n",
            "Epoch [13/20], Loss: 0.4119, Accuracy: 76.48 %\n",
            "Epoch [14/20], Loss: 0.3829, Accuracy: 74.30 %\n",
            "Epoch [15/20], Loss: 0.3570, Accuracy: 74.67 %\n",
            "Epoch [16/20], Loss: 0.3367, Accuracy: 75.39 %\n",
            "Epoch [17/20], Loss: 0.3000, Accuracy: 75.28 %\n",
            "Epoch [18/20], Loss: 0.2737, Accuracy: 76.66 %\n",
            "Epoch [19/20], Loss: 0.2532, Accuracy: 76.17 %\n"
          ]
        },
        {
          "output_type": "stream",
          "name": "stderr",
          "text": [
            "pyswarms.single.global_best:  10%|█         |1/10, best_cost=0.746"
          ]
        },
        {
          "output_type": "stream",
          "name": "stdout",
          "text": [
            "Epoch [20/20], Loss: 0.2386, Accuracy: 74.55 %\n",
            "Files already downloaded and verified\n",
            "Files already downloaded and verified\n",
            "Epoch [1/20], Loss: 1.2552, Accuracy: 63.89 %\n",
            "Epoch [2/20], Loss: 0.8626, Accuracy: 71.26 %\n",
            "Epoch [3/20], Loss: 0.7159, Accuracy: 70.37 %\n",
            "Epoch [4/20], Loss: 0.6256, Accuracy: 71.89 %\n",
            "Epoch [5/20], Loss: 0.5546, Accuracy: 76.82 %\n",
            "Epoch [6/20], Loss: 0.4914, Accuracy: 77.04 %\n",
            "Epoch [7/20], Loss: 0.4488, Accuracy: 78.58 %\n",
            "Epoch [8/20], Loss: 0.3972, Accuracy: 78.66 %\n",
            "Epoch [9/20], Loss: 0.3623, Accuracy: 79.47 %\n",
            "Epoch [10/20], Loss: 0.3152, Accuracy: 78.92 %\n",
            "Epoch [11/20], Loss: 0.2870, Accuracy: 78.84 %\n",
            "Epoch [12/20], Loss: 0.2528, Accuracy: 80.86 %\n",
            "Epoch [13/20], Loss: 0.2186, Accuracy: 79.37 %\n",
            "Epoch [14/20], Loss: 0.2015, Accuracy: 79.95 %\n",
            "Epoch [15/20], Loss: 0.1837, Accuracy: 79.75 %\n",
            "Epoch [16/20], Loss: 0.1515, Accuracy: 80.10 %\n",
            "Epoch [17/20], Loss: 0.1471, Accuracy: 78.84 %\n",
            "Epoch [18/20], Loss: 0.1328, Accuracy: 80.36 %\n",
            "Epoch [19/20], Loss: 0.1152, Accuracy: 80.07 %\n"
          ]
        },
        {
          "output_type": "stream",
          "name": "stderr",
          "text": [
            "pyswarms.single.global_best:  20%|██        |2/10, best_cost=0.746"
          ]
        },
        {
          "output_type": "stream",
          "name": "stdout",
          "text": [
            "Epoch [20/20], Loss: 0.1027, Accuracy: 79.56 %\n",
            "Files already downloaded and verified\n",
            "Files already downloaded and verified\n",
            "Epoch [1/20], Loss: 1.2710, Accuracy: 62.95 %\n",
            "Epoch [2/20], Loss: 0.8803, Accuracy: 69.51 %\n",
            "Epoch [3/20], Loss: 0.7363, Accuracy: 75.01 %\n",
            "Epoch [4/20], Loss: 0.6432, Accuracy: 72.80 %\n",
            "Epoch [5/20], Loss: 0.5702, Accuracy: 74.60 %\n",
            "Epoch [6/20], Loss: 0.5093, Accuracy: 75.66 %\n",
            "Epoch [7/20], Loss: 0.4707, Accuracy: 77.15 %\n",
            "Epoch [8/20], Loss: 0.4135, Accuracy: 79.09 %\n",
            "Epoch [9/20], Loss: 0.3717, Accuracy: 78.15 %\n",
            "Epoch [10/20], Loss: 0.3378, Accuracy: 77.99 %\n",
            "Epoch [11/20], Loss: 0.3022, Accuracy: 79.17 %\n",
            "Epoch [12/20], Loss: 0.2724, Accuracy: 79.67 %\n",
            "Epoch [13/20], Loss: 0.2407, Accuracy: 78.86 %\n",
            "Epoch [14/20], Loss: 0.2218, Accuracy: 78.38 %\n",
            "Epoch [15/20], Loss: 0.1969, Accuracy: 77.45 %\n",
            "Epoch [16/20], Loss: 0.1736, Accuracy: 78.45 %\n",
            "Epoch [17/20], Loss: 0.1597, Accuracy: 78.84 %\n",
            "Epoch [18/20], Loss: 0.1414, Accuracy: 79.56 %\n",
            "Epoch [19/20], Loss: 0.1345, Accuracy: 79.61 %\n"
          ]
        },
        {
          "output_type": "stream",
          "name": "stderr",
          "text": [
            "pyswarms.single.global_best:  30%|███       |3/10, best_cost=0.746"
          ]
        },
        {
          "output_type": "stream",
          "name": "stdout",
          "text": [
            "Epoch [20/20], Loss: 0.1189, Accuracy: 79.07 %\n",
            "Files already downloaded and verified\n",
            "Files already downloaded and verified\n",
            "Epoch [1/20], Loss: 1.2377, Accuracy: 63.04 %\n",
            "Epoch [2/20], Loss: 0.8637, Accuracy: 71.89 %\n",
            "Epoch [3/20], Loss: 0.7211, Accuracy: 72.60 %\n",
            "Epoch [4/20], Loss: 0.6271, Accuracy: 75.22 %\n",
            "Epoch [5/20], Loss: 0.5561, Accuracy: 77.87 %\n",
            "Epoch [6/20], Loss: 0.4922, Accuracy: 76.65 %\n",
            "Epoch [7/20], Loss: 0.4392, Accuracy: 78.06 %\n",
            "Epoch [8/20], Loss: 0.3936, Accuracy: 78.31 %\n",
            "Epoch [9/20], Loss: 0.3581, Accuracy: 77.75 %\n",
            "Epoch [10/20], Loss: 0.3186, Accuracy: 79.50 %\n",
            "Epoch [11/20], Loss: 0.2817, Accuracy: 79.14 %\n",
            "Epoch [12/20], Loss: 0.2452, Accuracy: 79.25 %\n",
            "Epoch [13/20], Loss: 0.2247, Accuracy: 80.10 %\n",
            "Epoch [14/20], Loss: 0.1968, Accuracy: 79.78 %\n",
            "Epoch [15/20], Loss: 0.1763, Accuracy: 80.66 %\n",
            "Epoch [16/20], Loss: 0.1572, Accuracy: 79.49 %\n",
            "Epoch [17/20], Loss: 0.1437, Accuracy: 80.15 %\n",
            "Epoch [18/20], Loss: 0.1254, Accuracy: 80.33 %\n",
            "Epoch [19/20], Loss: 0.1215, Accuracy: 79.96 %\n"
          ]
        },
        {
          "output_type": "stream",
          "name": "stderr",
          "text": [
            "pyswarms.single.global_best:  40%|████      |4/10, best_cost=0.746"
          ]
        },
        {
          "output_type": "stream",
          "name": "stdout",
          "text": [
            "Epoch [20/20], Loss: 0.1069, Accuracy: 80.14 %\n",
            "Files already downloaded and verified\n",
            "Files already downloaded and verified\n",
            "Epoch [1/20], Loss: 1.3589, Accuracy: 62.21 %\n",
            "Epoch [2/20], Loss: 1.0063, Accuracy: 64.94 %\n",
            "Epoch [3/20], Loss: 0.8722, Accuracy: 69.29 %\n",
            "Epoch [4/20], Loss: 0.7943, Accuracy: 71.58 %\n",
            "Epoch [5/20], Loss: 0.7257, Accuracy: 72.57 %\n",
            "Epoch [6/20], Loss: 0.6685, Accuracy: 75.04 %\n",
            "Epoch [7/20], Loss: 0.6205, Accuracy: 70.77 %\n",
            "Epoch [8/20], Loss: 0.5765, Accuracy: 73.93 %\n",
            "Epoch [9/20], Loss: 0.5393, Accuracy: 74.81 %\n",
            "Epoch [10/20], Loss: 0.4995, Accuracy: 74.44 %\n",
            "Epoch [11/20], Loss: 0.4595, Accuracy: 74.74 %\n",
            "Epoch [12/20], Loss: 0.4334, Accuracy: 74.10 %\n",
            "Epoch [13/20], Loss: 0.3954, Accuracy: 75.64 %\n",
            "Epoch [14/20], Loss: 0.3695, Accuracy: 74.57 %\n",
            "Epoch [15/20], Loss: 0.3445, Accuracy: 76.14 %\n",
            "Epoch [16/20], Loss: 0.3121, Accuracy: 76.06 %\n",
            "Epoch [17/20], Loss: 0.2966, Accuracy: 76.13 %\n",
            "Epoch [18/20], Loss: 0.2642, Accuracy: 76.19 %\n",
            "Epoch [19/20], Loss: 0.2432, Accuracy: 75.14 %\n"
          ]
        },
        {
          "output_type": "stream",
          "name": "stderr",
          "text": [
            "pyswarms.single.global_best:  50%|█████     |5/10, best_cost=0.746"
          ]
        },
        {
          "output_type": "stream",
          "name": "stdout",
          "text": [
            "Epoch [20/20], Loss: 0.2207, Accuracy: 76.82 %\n",
            "Files already downloaded and verified\n",
            "Files already downloaded and verified\n",
            "Epoch [1/20], Loss: 1.3618, Accuracy: 57.81 %\n",
            "Epoch [2/20], Loss: 0.9917, Accuracy: 65.26 %\n",
            "Epoch [3/20], Loss: 0.8592, Accuracy: 68.21 %\n",
            "Epoch [4/20], Loss: 0.7857, Accuracy: 68.26 %\n",
            "Epoch [5/20], Loss: 0.7250, Accuracy: 72.20 %\n",
            "Epoch [6/20], Loss: 0.6746, Accuracy: 71.85 %\n",
            "Epoch [7/20], Loss: 0.6318, Accuracy: 74.21 %\n",
            "Epoch [8/20], Loss: 0.5915, Accuracy: 73.74 %\n",
            "Epoch [9/20], Loss: 0.5459, Accuracy: 74.77 %\n",
            "Epoch [10/20], Loss: 0.5151, Accuracy: 73.66 %\n",
            "Epoch [11/20], Loss: 0.4824, Accuracy: 74.89 %\n",
            "Epoch [12/20], Loss: 0.4510, Accuracy: 74.96 %\n",
            "Epoch [13/20], Loss: 0.4153, Accuracy: 76.17 %\n",
            "Epoch [14/20], Loss: 0.3850, Accuracy: 74.85 %\n",
            "Epoch [15/20], Loss: 0.3606, Accuracy: 75.49 %\n",
            "Epoch [16/20], Loss: 0.3367, Accuracy: 75.07 %\n",
            "Epoch [17/20], Loss: 0.3105, Accuracy: 76.01 %\n",
            "Epoch [18/20], Loss: 0.2823, Accuracy: 74.07 %\n",
            "Epoch [19/20], Loss: 0.2682, Accuracy: 75.58 %\n"
          ]
        },
        {
          "output_type": "stream",
          "name": "stderr",
          "text": [
            "pyswarms.single.global_best:  60%|██████    |6/10, best_cost=0.746"
          ]
        },
        {
          "output_type": "stream",
          "name": "stdout",
          "text": [
            "Epoch [20/20], Loss: 0.2527, Accuracy: 74.69 %\n",
            "Files already downloaded and verified\n",
            "Files already downloaded and verified\n",
            "Epoch [1/20], Loss: 1.2695, Accuracy: 62.80 %\n",
            "Epoch [2/20], Loss: 0.8590, Accuracy: 71.12 %\n",
            "Epoch [3/20], Loss: 0.7049, Accuracy: 71.89 %\n",
            "Epoch [4/20], Loss: 0.5997, Accuracy: 74.87 %\n",
            "Epoch [5/20], Loss: 0.5280, Accuracy: 76.95 %\n",
            "Epoch [6/20], Loss: 0.4600, Accuracy: 76.61 %\n",
            "Epoch [7/20], Loss: 0.4077, Accuracy: 79.89 %\n",
            "Epoch [8/20], Loss: 0.3589, Accuracy: 77.04 %\n",
            "Epoch [9/20], Loss: 0.3150, Accuracy: 78.53 %\n",
            "Epoch [10/20], Loss: 0.2800, Accuracy: 77.31 %\n",
            "Epoch [11/20], Loss: 0.2489, Accuracy: 80.25 %\n",
            "Epoch [12/20], Loss: 0.2174, Accuracy: 78.85 %\n",
            "Epoch [13/20], Loss: 0.1987, Accuracy: 80.32 %\n",
            "Epoch [14/20], Loss: 0.1736, Accuracy: 78.70 %\n",
            "Epoch [15/20], Loss: 0.1545, Accuracy: 80.21 %\n",
            "Epoch [16/20], Loss: 0.1442, Accuracy: 78.50 %\n",
            "Epoch [17/20], Loss: 0.1286, Accuracy: 80.51 %\n",
            "Epoch [18/20], Loss: 0.1181, Accuracy: 80.84 %\n",
            "Epoch [19/20], Loss: 0.1119, Accuracy: 79.40 %\n"
          ]
        },
        {
          "output_type": "stream",
          "name": "stderr",
          "text": [
            "pyswarms.single.global_best:  70%|███████   |7/10, best_cost=0.746"
          ]
        },
        {
          "output_type": "stream",
          "name": "stdout",
          "text": [
            "Epoch [20/20], Loss: 0.1014, Accuracy: 79.08 %\n",
            "Files already downloaded and verified\n",
            "Files already downloaded and verified\n",
            "Epoch [1/20], Loss: 1.2271, Accuracy: 64.42 %\n",
            "Epoch [2/20], Loss: 0.8341, Accuracy: 71.70 %\n",
            "Epoch [3/20], Loss: 0.6903, Accuracy: 76.03 %\n",
            "Epoch [4/20], Loss: 0.5907, Accuracy: 74.35 %\n",
            "Epoch [5/20], Loss: 0.5157, Accuracy: 76.95 %\n",
            "Epoch [6/20], Loss: 0.4503, Accuracy: 78.51 %\n",
            "Epoch [7/20], Loss: 0.4004, Accuracy: 78.36 %\n",
            "Epoch [8/20], Loss: 0.3517, Accuracy: 79.69 %\n",
            "Epoch [9/20], Loss: 0.3107, Accuracy: 79.83 %\n",
            "Epoch [10/20], Loss: 0.2656, Accuracy: 80.15 %\n",
            "Epoch [11/20], Loss: 0.2350, Accuracy: 79.78 %\n",
            "Epoch [12/20], Loss: 0.2084, Accuracy: 79.83 %\n",
            "Epoch [13/20], Loss: 0.1837, Accuracy: 80.62 %\n",
            "Epoch [14/20], Loss: 0.1595, Accuracy: 80.37 %\n",
            "Epoch [15/20], Loss: 0.1443, Accuracy: 80.63 %\n",
            "Epoch [16/20], Loss: 0.1337, Accuracy: 79.57 %\n",
            "Epoch [17/20], Loss: 0.1162, Accuracy: 80.27 %\n",
            "Epoch [18/20], Loss: 0.1113, Accuracy: 80.86 %\n",
            "Epoch [19/20], Loss: 0.0999, Accuracy: 80.97 %\n"
          ]
        },
        {
          "output_type": "stream",
          "name": "stderr",
          "text": [
            "pyswarms.single.global_best:  80%|████████  |8/10, best_cost=0.746"
          ]
        },
        {
          "output_type": "stream",
          "name": "stdout",
          "text": [
            "Epoch [20/20], Loss: 0.0887, Accuracy: 81.20 %\n",
            "Files already downloaded and verified\n",
            "Files already downloaded and verified\n",
            "Epoch [1/20], Loss: 1.2362, Accuracy: 65.50 %\n",
            "Epoch [2/20], Loss: 0.8312, Accuracy: 68.18 %\n",
            "Epoch [3/20], Loss: 0.6874, Accuracy: 74.01 %\n",
            "Epoch [4/20], Loss: 0.5823, Accuracy: 76.20 %\n",
            "Epoch [5/20], Loss: 0.5143, Accuracy: 77.91 %\n",
            "Epoch [6/20], Loss: 0.4556, Accuracy: 79.21 %\n",
            "Epoch [7/20], Loss: 0.3971, Accuracy: 79.16 %\n",
            "Epoch [8/20], Loss: 0.3524, Accuracy: 78.14 %\n",
            "Epoch [9/20], Loss: 0.3173, Accuracy: 78.51 %\n",
            "Epoch [10/20], Loss: 0.2787, Accuracy: 80.27 %\n",
            "Epoch [11/20], Loss: 0.2442, Accuracy: 81.24 %\n",
            "Epoch [12/20], Loss: 0.2149, Accuracy: 80.88 %\n",
            "Epoch [13/20], Loss: 0.1916, Accuracy: 78.56 %\n",
            "Epoch [14/20], Loss: 0.1726, Accuracy: 80.00 %\n",
            "Epoch [15/20], Loss: 0.1541, Accuracy: 79.61 %\n",
            "Epoch [16/20], Loss: 0.1379, Accuracy: 80.47 %\n",
            "Epoch [17/20], Loss: 0.1266, Accuracy: 80.38 %\n",
            "Epoch [18/20], Loss: 0.1149, Accuracy: 79.90 %\n",
            "Epoch [19/20], Loss: 0.1100, Accuracy: 81.03 %\n"
          ]
        },
        {
          "output_type": "stream",
          "name": "stderr",
          "text": [
            "pyswarms.single.global_best:  90%|█████████ |9/10, best_cost=0.746"
          ]
        },
        {
          "output_type": "stream",
          "name": "stdout",
          "text": [
            "Epoch [20/20], Loss: 0.0961, Accuracy: 79.73 %\n",
            "Files already downloaded and verified\n",
            "Files already downloaded and verified\n",
            "Epoch [1/20], Loss: 1.2648, Accuracy: 66.25 %\n",
            "Epoch [2/20], Loss: 0.8689, Accuracy: 68.13 %\n",
            "Epoch [3/20], Loss: 0.7006, Accuracy: 71.95 %\n",
            "Epoch [4/20], Loss: 0.6043, Accuracy: 76.23 %\n",
            "Epoch [5/20], Loss: 0.5242, Accuracy: 77.43 %\n",
            "Epoch [6/20], Loss: 0.4657, Accuracy: 78.18 %\n",
            "Epoch [7/20], Loss: 0.4095, Accuracy: 77.20 %\n",
            "Epoch [8/20], Loss: 0.3627, Accuracy: 78.77 %\n",
            "Epoch [9/20], Loss: 0.3187, Accuracy: 77.55 %\n",
            "Epoch [10/20], Loss: 0.2841, Accuracy: 77.75 %\n",
            "Epoch [11/20], Loss: 0.2496, Accuracy: 79.24 %\n",
            "Epoch [12/20], Loss: 0.2202, Accuracy: 79.92 %\n",
            "Epoch [13/20], Loss: 0.1992, Accuracy: 79.93 %\n",
            "Epoch [14/20], Loss: 0.1740, Accuracy: 81.09 %\n",
            "Epoch [15/20], Loss: 0.1526, Accuracy: 79.80 %\n",
            "Epoch [16/20], Loss: 0.1443, Accuracy: 80.32 %\n",
            "Epoch [17/20], Loss: 0.1295, Accuracy: 80.19 %\n",
            "Epoch [18/20], Loss: 0.1180, Accuracy: 79.44 %\n",
            "Epoch [19/20], Loss: 0.1089, Accuracy: 80.57 %\n"
          ]
        },
        {
          "output_type": "stream",
          "name": "stderr",
          "text": [
            "pyswarms.single.global_best: 100%|██████████|10/10, best_cost=0.746\n",
            "2024-04-03 22:02:30,874 - pyswarms.single.global_best - INFO - Optimization finished | best cost: 0.7455, best pos: [  1.63923135 166.55545564]\n"
          ]
        },
        {
          "output_type": "stream",
          "name": "stdout",
          "text": [
            "Epoch [20/20], Loss: 0.1024, Accuracy: 79.47 %\n",
            "Best hyperparameters: 0.7455\n"
          ]
        }
      ]
    },
    {
      "cell_type": "markdown",
      "source": [
        "### Best position is [1.63923135 166.55545564], therefore, 2 layers, 167 neurons"
      ],
      "metadata": {
        "id": "1ul7njh21UNz"
      }
    },
    {
      "cell_type": "code",
      "source": [],
      "metadata": {
        "id": "_SlX4ran_NMD"
      },
      "execution_count": null,
      "outputs": []
    }
  ]
}