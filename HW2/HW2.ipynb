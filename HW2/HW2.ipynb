{
  "nbformat": 4,
  "nbformat_minor": 0,
  "metadata": {
    "colab": {
      "provenance": []
    },
    "kernelspec": {
      "name": "python3",
      "display_name": "Python 3"
    },
    "language_info": {
      "name": "python"
    }
  },
  "cells": [
    {
      "cell_type": "code",
      "source": [
        "# # this block of code imports graphical libraries for plotting graphs with high resolution\n",
        "%matplotlib inline\n",
        "%config InlineBackend.figure_format = 'retina'\n",
        "import matplotlib.pyplot as plt\n",
        "import matplotlib as mpl\n",
        "mpl.rcParams['figure.dpi'] = 120"
      ],
      "metadata": {
        "id": "YhTSuV5jMjSD"
      },
      "execution_count": 1,
      "outputs": []
    },
    {
      "cell_type": "code",
      "source": [
        "# Libraries of functions need to be imported\n",
        "import numpy as np\n",
        "import pandas as pd\n",
        "from xgboost import XGBRegressor\n",
        "from sklearn import linear_model\n",
        "from sklearn.linear_model import Ridge\n",
        "from sklearn.preprocessing import StandardScaler, MinMaxScaler, QuantileTransformer\n",
        "from scipy.spatial import Delaunay\n",
        "from sklearn.ensemble import RandomForestRegressor\n",
        "from sklearn.model_selection import KFold, GridSearchCV\n",
        "from sklearn.metrics import mean_squared_error\n",
        "from scipy import linalg\n",
        "from scipy.interpolate import interp1d, LinearNDInterpolator, NearestNDInterpolator\n",
        "from sklearn.decomposition import PCA\n",
        "\n",
        "from scipy.spatial.distance import cdist\n",
        "\n",
        "# the following line(s) are necessary if you want to make SKlearn compliant functions\n",
        "from sklearn.base import BaseEstimator, RegressorMixin\n",
        "from sklearn.utils.validation import check_X_y, check_array, check_is_fitted"
      ],
      "metadata": {
        "id": "QUTFc0xXMm3Y"
      },
      "execution_count": 13,
      "outputs": []
    },
    {
      "cell_type": "markdown",
      "source": [
        "## Question 1"
      ],
      "metadata": {
        "id": "Vu2CEkzUMiJL"
      }
    },
    {
      "cell_type": "code",
      "source": [
        "# Gaussian Kernel\n",
        "def Gaussian(x):\n",
        "  return np.where(np.abs(x)>4,0,1/(np.sqrt(2*np.pi))*np.exp(-1/2*x**2))"
      ],
      "metadata": {
        "id": "C2RFIHVWMoX7"
      },
      "execution_count": 4,
      "outputs": []
    },
    {
      "cell_type": "code",
      "source": [
        "# Epanechnikov Kernel\n",
        "def Epanechnikov(x):\n",
        "  return np.where(np.abs(x)>1,0,3/4*(1-np.abs(x)**2))"
      ],
      "metadata": {
        "id": "9L6IU3jSUL0d"
      },
      "execution_count": 20,
      "outputs": []
    },
    {
      "cell_type": "code",
      "source": [
        "def weight_function(u,v,kern=Gaussian,tau=0.5):\n",
        "    return kern(cdist(u, v, metric='euclidean')/(2*tau))"
      ],
      "metadata": {
        "id": "q0IxxzG_M3pQ"
      },
      "execution_count": 5,
      "outputs": []
    },
    {
      "cell_type": "markdown",
      "source": [
        "Lowess Class"
      ],
      "metadata": {
        "id": "fJ7JFOQKNi5I"
      }
    },
    {
      "cell_type": "code",
      "source": [
        "class Lowess:\n",
        "    def __init__(self, kernel=Gaussian, tau=0.05):\n",
        "        self.kernel = kernel\n",
        "        self.tau = tau\n",
        "\n",
        "    def fit(self, x, y):\n",
        "        self.xtrain_ = x\n",
        "        self.yhat_ = y\n",
        "\n",
        "    def predict(self, x_new):\n",
        "        x = self.xtrain_\n",
        "        y = self.yhat_\n",
        "        lm = Ridge(alpha=0.001)\n",
        "        w = weight_function(x, x_new, self.kernel, self.tau)\n",
        "\n",
        "        if np.isscalar(x_new):\n",
        "            lm.fit(np.diag(w) @ (x.reshape(-1, 1)), np.diag(w) @ (y.reshape(-1, 1)))\n",
        "            yest = lm.predict([[x_new]])[0][0]\n",
        "        else:\n",
        "            n = len(x_new)\n",
        "            yest_test = []\n",
        "            for i in range(n):\n",
        "                lm.fit(np.diag(w[:, i]) @ x, np.diag(w[:, i]) @ y)\n",
        "                yest_test.append(lm.predict([x_new[i]]))\n",
        "            return np.array(yest_test).flatten()\n"
      ],
      "metadata": {
        "id": "8RVuSml0M39N"
      },
      "execution_count": 7,
      "outputs": []
    },
    {
      "cell_type": "markdown",
      "source": [
        "Gradient Boosting with user-prescribed number of boosting steps"
      ],
      "metadata": {
        "id": "J_jILlVCNkXZ"
      }
    },
    {
      "cell_type": "code",
      "source": [
        "class GradientBoostingLowess:\n",
        "    def __init__(self, n_estimators=100, learning_rate=0.1, kernel1=Epanechnikov, tau1=0.14, kernel2=Gaussian, tau2=0.2):\n",
        "        self.n_estimators = n_estimators\n",
        "        self.learning_rate = learning_rate\n",
        "        self.models = []\n",
        "        self.kernel1 = kernel1\n",
        "        self.tau1 = tau1\n",
        "        self.kernel2 = kernel2\n",
        "        self.tau2 = tau2\n",
        "\n",
        "    def fit(self, X, y):\n",
        "        self.models = []\n",
        "        y_pred = np.zeros_like(y)\n",
        "\n",
        "        for _ in range(self.n_estimators):\n",
        "            model1 = Lowess(kernel=self.kernel1, tau=self.tau1)\n",
        "            model1.fit(X, y_pred)\n",
        "            y_hat_train = model1.predict(X)\n",
        "            residuals_train = y - y_hat_train\n",
        "\n",
        "            model2 = Lowess(kernel=self.kernel2, tau=self.tau2)\n",
        "            model2.fit(X, residuals_train)\n",
        "            self.models.append((model1, model2))\n",
        "\n",
        "    def predict(self, X):\n",
        "        y_pred = np.zeros(X.shape[0])\n",
        "        for model1, model2 in self.models:\n",
        "            y_pred += self.learning_rate * (model1.predict(X) + model2.predict(X))\n",
        "        return y_pred\n",
        "\n",
        "    def is_fitted(self):\n",
        "        return len(self.models) > 0\n"
      ],
      "metadata": {
        "id": "Ek3w0hohNQTg"
      },
      "execution_count": 26,
      "outputs": []
    },
    {
      "cell_type": "markdown",
      "source": [
        "Loading in Data"
      ],
      "metadata": {
        "id": "532xt3SCN0dn"
      }
    },
    {
      "cell_type": "code",
      "source": [
        "data = pd.read_csv('/content/concrete.csv')\n",
        "X = data.drop(columns = ['strength']).values\n",
        "y = data['strength'].values"
      ],
      "metadata": {
        "id": "yto5tUCyNTc9"
      },
      "execution_count": 76,
      "outputs": []
    },
    {
      "cell_type": "markdown",
      "source": [
        "Define Scalars"
      ],
      "metadata": {
        "id": "FPi4l7yMORU2"
      }
    },
    {
      "cell_type": "code",
      "source": [
        "scalers = {\n",
        "    'StandardScaler': StandardScaler(),\n",
        "    'MinMaxScaler': MinMaxScaler(),\n",
        "    'QuantileTransformer': QuantileTransformer()\n",
        "}"
      ],
      "metadata": {
        "id": "NQ1P5HmxN981"
      },
      "execution_count": 11,
      "outputs": []
    },
    {
      "cell_type": "code",
      "source": [
        "gb_lowess = GradientBoostingLowess(n_estimators=10, learning_rate=0.1)\n",
        "\n",
        "# Perform 10-fold cross-validation and compare different scalers\n",
        "for scaler_name, scaler in scalers.items():\n",
        "    kf = KFold(n_splits=10)\n",
        "    mse_scores = []\n",
        "    counter = 0\n",
        "\n",
        "    for train_index, test_index in kf.split(X):\n",
        "        X_train, X_test = X[train_index], X[test_index]\n",
        "        y_train, y_test = y[train_index], y[test_index]\n",
        "\n",
        "        # Scale data\n",
        "        X_train_scaled = scaler.fit_transform(X_train)\n",
        "        X_test_scaled = scaler.transform(X_test)\n",
        "\n",
        "        # Fit model\n",
        "        gb_lowess.fit(X_train_scaled, y_train)\n",
        "        counter +=1\n",
        "        print(counter)\n",
        "        # Predict\n",
        "        y_pred = gb_lowess.predict(X_test_scaled)\n",
        "\n",
        "        # Calculate MSE\n",
        "        mse = mean_squared_error(y_test, y_pred)\n",
        "        mse_scores.append(mse)\n",
        "\n",
        "    print(f'MSE scores with {scaler_name}: {mse_scores}')\n",
        "    print(f'Average MSE with {scaler_name}: {np.mean(mse_scores)}')"
      ],
      "metadata": {
        "colab": {
          "base_uri": "https://localhost:8080/"
        },
        "id": "kNg0l6qWOTdE",
        "outputId": "c2e63011-253e-47f6-ee0c-d8fbeb4a4f30"
      },
      "execution_count": 27,
      "outputs": [
        {
          "output_type": "stream",
          "name": "stdout",
          "text": [
            "1\n",
            "2\n",
            "3\n",
            "4\n",
            "5\n",
            "6\n",
            "7\n",
            "8\n",
            "9\n",
            "10\n",
            "MSE scores with StandardScaler: [1329.6725073879772, 1342.2428751583866, 212.18032112959173, 912.2209042101563, 958.346399747072, 90.05207186425771, 308.59852748278377, 508.73438050412597, 75.34762220861997, 14.736889498152522]\n",
            "Average MSE with StandardScaler: 575.2132499191124\n",
            "1\n",
            "2\n",
            "3\n",
            "4\n",
            "5\n",
            "6\n",
            "7\n",
            "8\n",
            "9\n",
            "10\n",
            "MSE scores with MinMaxScaler: [199.24843258291466, 131.0637079571976, 59.55365609276102, 132.5788183541165, 97.32073973711134, 41.73766470934508, 48.893442498692345, 43.816254109755974, 33.819751551631256, 32.29421299593331]\n",
            "Average MSE with MinMaxScaler: 82.03266805894592\n"
          ]
        },
        {
          "output_type": "stream",
          "name": "stderr",
          "text": [
            "/usr/local/lib/python3.10/dist-packages/sklearn/preprocessing/_data.py:2627: UserWarning: n_quantiles (1000) is greater than the total number of samples (927). n_quantiles is set to n_samples.\n",
            "  warnings.warn(\n"
          ]
        },
        {
          "output_type": "stream",
          "name": "stdout",
          "text": [
            "1\n"
          ]
        },
        {
          "output_type": "stream",
          "name": "stderr",
          "text": [
            "/usr/local/lib/python3.10/dist-packages/sklearn/preprocessing/_data.py:2627: UserWarning: n_quantiles (1000) is greater than the total number of samples (927). n_quantiles is set to n_samples.\n",
            "  warnings.warn(\n"
          ]
        },
        {
          "output_type": "stream",
          "name": "stdout",
          "text": [
            "2\n"
          ]
        },
        {
          "output_type": "stream",
          "name": "stderr",
          "text": [
            "/usr/local/lib/python3.10/dist-packages/sklearn/preprocessing/_data.py:2627: UserWarning: n_quantiles (1000) is greater than the total number of samples (927). n_quantiles is set to n_samples.\n",
            "  warnings.warn(\n"
          ]
        },
        {
          "output_type": "stream",
          "name": "stdout",
          "text": [
            "3\n"
          ]
        },
        {
          "output_type": "stream",
          "name": "stderr",
          "text": [
            "/usr/local/lib/python3.10/dist-packages/sklearn/preprocessing/_data.py:2627: UserWarning: n_quantiles (1000) is greater than the total number of samples (927). n_quantiles is set to n_samples.\n",
            "  warnings.warn(\n"
          ]
        },
        {
          "output_type": "stream",
          "name": "stdout",
          "text": [
            "4\n"
          ]
        },
        {
          "output_type": "stream",
          "name": "stderr",
          "text": [
            "/usr/local/lib/python3.10/dist-packages/sklearn/preprocessing/_data.py:2627: UserWarning: n_quantiles (1000) is greater than the total number of samples (927). n_quantiles is set to n_samples.\n",
            "  warnings.warn(\n"
          ]
        },
        {
          "output_type": "stream",
          "name": "stdout",
          "text": [
            "5\n"
          ]
        },
        {
          "output_type": "stream",
          "name": "stderr",
          "text": [
            "/usr/local/lib/python3.10/dist-packages/sklearn/preprocessing/_data.py:2627: UserWarning: n_quantiles (1000) is greater than the total number of samples (927). n_quantiles is set to n_samples.\n",
            "  warnings.warn(\n"
          ]
        },
        {
          "output_type": "stream",
          "name": "stdout",
          "text": [
            "6\n"
          ]
        },
        {
          "output_type": "stream",
          "name": "stderr",
          "text": [
            "/usr/local/lib/python3.10/dist-packages/sklearn/preprocessing/_data.py:2627: UserWarning: n_quantiles (1000) is greater than the total number of samples (927). n_quantiles is set to n_samples.\n",
            "  warnings.warn(\n"
          ]
        },
        {
          "output_type": "stream",
          "name": "stdout",
          "text": [
            "7\n"
          ]
        },
        {
          "output_type": "stream",
          "name": "stderr",
          "text": [
            "/usr/local/lib/python3.10/dist-packages/sklearn/preprocessing/_data.py:2627: UserWarning: n_quantiles (1000) is greater than the total number of samples (927). n_quantiles is set to n_samples.\n",
            "  warnings.warn(\n"
          ]
        },
        {
          "output_type": "stream",
          "name": "stdout",
          "text": [
            "8\n"
          ]
        },
        {
          "output_type": "stream",
          "name": "stderr",
          "text": [
            "/usr/local/lib/python3.10/dist-packages/sklearn/preprocessing/_data.py:2627: UserWarning: n_quantiles (1000) is greater than the total number of samples (927). n_quantiles is set to n_samples.\n",
            "  warnings.warn(\n"
          ]
        },
        {
          "output_type": "stream",
          "name": "stdout",
          "text": [
            "9\n"
          ]
        },
        {
          "output_type": "stream",
          "name": "stderr",
          "text": [
            "/usr/local/lib/python3.10/dist-packages/sklearn/preprocessing/_data.py:2627: UserWarning: n_quantiles (1000) is greater than the total number of samples (927). n_quantiles is set to n_samples.\n",
            "  warnings.warn(\n"
          ]
        },
        {
          "output_type": "stream",
          "name": "stdout",
          "text": [
            "10\n",
            "MSE scores with QuantileTransformer: [103.21518660527974, 79.22675788404666, 36.438570886724, 90.59107463553279, 80.49995187647919, 54.45814586945954, 25.45322357711788, 21.936527274860826, 20.61380282894073, 26.824807552938168]\n",
            "Average MSE with QuantileTransformer: 53.92580489913796\n"
          ]
        }
      ]
    },
    {
      "cell_type": "code",
      "source": [
        "xgb_model = XGBRegressor(objective ='reg:squarederror',n_estimators=10,reg_lambda=20,alpha=1,gamma=10,max_depth=3)\n",
        "\n",
        "# Perform 10-fold cross-validation with XGBoost\n",
        "xgb_mse_scores = []\n",
        "\n",
        "for train_index, test_index in kf.split(X):\n",
        "    X_train, X_test = X[train_index], X[test_index]\n",
        "    y_train, y_test = y[train_index], y[test_index]\n",
        "\n",
        "    # Fit model\n",
        "    xgb_model.fit(X_train, y_train)\n",
        "\n",
        "    # Predict\n",
        "    y_pred = xgb_model.predict(X_test)\n",
        "\n",
        "    # Calculate MSE\n",
        "    mse = mean_squared_error(y_test, y_pred)\n",
        "    xgb_mse_scores.append(mse)\n",
        "\n",
        "print(f'MSE scores with XGBoost: {xgb_mse_scores}')\n",
        "print(f'Average MSE with XGBoost: {np.mean(xgb_mse_scores)}')"
      ],
      "metadata": {
        "colab": {
          "base_uri": "https://localhost:8080/"
        },
        "id": "FSf-H7-XO8uK",
        "outputId": "e2c3b8b0-210c-4ae6-e0c9-6d77d6eb3338"
      },
      "execution_count": 37,
      "outputs": [
        {
          "output_type": "stream",
          "name": "stdout",
          "text": [
            "MSE scores with XGBoost: [70.53647163005765, 191.0514395491261, 44.13326928550733, 124.66897602548669, 83.61695799540676, 56.281943863519786, 56.648937537416145, 79.16114945571937, 61.40560626161717, 52.68090160887271]\n",
            "Average MSE with XGBoost: 82.01856532127297\n"
          ]
        }
      ]
    },
    {
      "cell_type": "markdown",
      "source": [
        "While using the same amount of boosting steps in my class and the XGBRegressor, my class yields lowers MSE's.\\\n",
        "The hyperparameters for my class are:\n",
        "- n_estimators = 10\n",
        "- learning_rate = 0.1\n",
        "- kernel1 = Epanechnikov\n",
        "- tau1 = 0.14\n",
        "- kernel2 = Gaussian\n",
        "- tau2 = 0.2"
      ],
      "metadata": {
        "id": "2zt_d_NNBv1R"
      }
    },
    {
      "cell_type": "markdown",
      "source": [
        "## Question 2"
      ],
      "metadata": {
        "id": "Sy0UGj0YwvJY"
      }
    },
    {
      "cell_type": "code",
      "source": [
        "!pip install numpy usearch"
      ],
      "metadata": {
        "colab": {
          "base_uri": "https://localhost:8080/"
        },
        "id": "BnisMred5TKz",
        "outputId": "5beff5ad-ebe1-43da-fe11-484f6e128e18"
      },
      "execution_count": 38,
      "outputs": [
        {
          "output_type": "stream",
          "name": "stdout",
          "text": [
            "Requirement already satisfied: numpy in /usr/local/lib/python3.10/dist-packages (1.25.2)\n",
            "Collecting usearch\n",
            "  Downloading usearch-2.8.15-cp310-cp310-manylinux_2_28_x86_64.whl (1.5 MB)\n",
            "\u001b[2K     \u001b[90m━━━━━━━━━━━━━━━━━━━━━━━━━━━━━━━━━━━━━━━━\u001b[0m \u001b[32m1.5/1.5 MB\u001b[0m \u001b[31m22.5 MB/s\u001b[0m eta \u001b[36m0:00:00\u001b[0m\n",
            "\u001b[?25hRequirement already satisfied: tqdm in /usr/local/lib/python3.10/dist-packages (from usearch) (4.66.2)\n",
            "Collecting ucall (from usearch)\n",
            "  Downloading ucall-0.5.1-cp310-cp310-manylinux_2_27_x86_64.manylinux_2_28_x86_64.whl (1.3 MB)\n",
            "\u001b[2K     \u001b[90m━━━━━━━━━━━━━━━━━━━━━━━━━━━━━━━━━━━━━━━━\u001b[0m \u001b[32m1.3/1.3 MB\u001b[0m \u001b[31m70.4 MB/s\u001b[0m eta \u001b[36m0:00:00\u001b[0m\n",
            "\u001b[?25hRequirement already satisfied: pillow in /usr/local/lib/python3.10/dist-packages (from ucall->usearch) (9.4.0)\n",
            "Installing collected packages: ucall, usearch\n",
            "Successfully installed ucall-0.5.1 usearch-2.8.15\n"
          ]
        }
      ]
    },
    {
      "cell_type": "code",
      "source": [],
      "metadata": {
        "id": "cPmsOBaTAolZ"
      },
      "execution_count": null,
      "outputs": []
    },
    {
      "cell_type": "code",
      "source": [
        "import numpy as np\n",
        "import matplotlib.pyplot as plt\n",
        "from sklearn import datasets\n",
        "from sklearn.model_selection import train_test_split\n",
        "from sklearn.preprocessing import StandardScaler\n",
        "from usearch.index import search, MetricKind\n",
        "\n",
        "def most_common(lst):\n",
        "    unique, counts = np.unique(lst, return_counts=True)\n",
        "    max_count = np.max(counts)\n",
        "    most_common_labels = unique[counts == max_count]\n",
        "    return most_common_labels[0] if len(most_common_labels) == 1 else most_common_labels[np.random.randint(len(most_common_labels))]\n",
        "\n",
        "class KNeighborsClassifier:\n",
        "    def __init__(self, k=5):\n",
        "        self.k = k\n",
        "\n",
        "    def fit(self, X_train, y_train):\n",
        "        self.X_train = X_train\n",
        "        self.y_train = y_train\n",
        "\n",
        "    def predict(self, X_test):\n",
        "        neighbors = []\n",
        "        for x in X_test:\n",
        "            distances = search(self.X_train, x, self.k, MetricKind.L2sq, exact=True).distances\n",
        "            nearest_indices = np.argsort(distances)\n",
        "            nearest_labels = self.y_train[nearest_indices]\n",
        "            neighbors.append(nearest_labels)\n",
        "        return np.array(list(map(most_common, neighbors)))\n",
        "\n",
        "    def evaluate(self, X_test, y_test):\n",
        "        y_pred = self.predict(X_test)\n",
        "        accuracy = np.sum(y_pred == y_test) / len(y_test)\n",
        "        return accuracy\n",
        "\n",
        "# Unpack the iris dataset\n",
        "iris = datasets.load_iris()\n",
        "X = iris['data']\n",
        "y = iris['target']\n",
        "\n",
        "# Split data into train & test sets\n",
        "X_train, X_test, y_train, y_test = train_test_split(X, y, test_size=0.2)\n",
        "\n",
        "# Preprocess data\n",
        "ss = StandardScaler().fit(X_train)\n",
        "X_train, X_test = ss.transform(X_train), ss.transform(X_test)\n",
        "\n",
        "# Test knn model across varying ks\n",
        "accuracies = []\n",
        "ks = range(1, 30)\n",
        "for k in ks:\n",
        "    knn = KNeighborsClassifier(k=k)\n",
        "    knn.fit(X_train, y_train)\n",
        "    accuracy = knn.evaluate(X_test, y_test)\n",
        "    accuracies.append(accuracy)\n",
        "\n",
        "# Visualize accuracy vs. k\n",
        "fig, ax = plt.subplots()\n",
        "ax.plot(ks, accuracies)\n",
        "ax.set(xlabel=\"k\",\n",
        "       ylabel=\"Accuracy\",\n",
        "       title=\"Performance of knn\")\n",
        "plt.show()\n"
      ],
      "metadata": {
        "colab": {
          "base_uri": "https://localhost:8080/",
          "height": 561
        },
        "id": "wHJDisX4GMR7",
        "outputId": "36775a32-d50d-4055-e083-f4dfdc04e268"
      },
      "execution_count": 106,
      "outputs": [
        {
          "output_type": "display_data",
          "data": {
            "text/plain": [
              "<Figure size 768x576 with 1 Axes>"
            ],
            "image/png": "[encoded data removed]"
          },
          "metadata": {
            "image/png": {
              "width": 694,
              "height": 544
            }
          }
        }
      ]
    },
    {
      "cell_type": "markdown",
      "source": [
        "## Question 3"
      ],
      "metadata": {
        "id": "bBPzEGgeH8g0"
      }
    },
    {
      "cell_type": "markdown",
      "source": [
        "https://akhipath03.github.io/AdvMachineLearning/HW1/"
      ],
      "metadata": {
        "id": "YRXHBb9GH-5m"
      }
    },
    {
      "cell_type": "code",
      "source": [],
      "metadata": {
        "id": "bFlf8XsDGu2r"
      },
      "execution_count": null,
      "outputs": []
    }
  ]
}